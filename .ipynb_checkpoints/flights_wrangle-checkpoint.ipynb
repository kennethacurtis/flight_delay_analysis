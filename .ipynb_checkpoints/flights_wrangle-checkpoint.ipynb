{
 "cells": [
  {
   "cell_type": "markdown",
   "metadata": {},
   "source": [
    "# Gather"
   ]
  },
  {
   "cell_type": "markdown",
   "metadata": {},
   "source": [
    "### Introduction\n",
    "\n",
    "This data comes from [The Bureau of Transportation Statistics](https://www.transtats.bts.gov/DL_SelectFields.asp?Table_ID=) and tracks destinations, distance, and delay information of flights across U.S. For this project, I chose the years 2009 through 2017 resulting in 54,383,096 rows of data. To see a more detailed description of the date, click [here](https://www.transtats.bts.gov/Fields.asp?table_id=236).\n",
    "\n",
    "### Notes\n",
    "\n",
    "Throughout this notebook, you'll notice that most operations are single cell, this was because my machine kept running out of usable memory. The dataset was really large and required as much memory as possible for each operation. You will see multiple cells of code that could possibly be more code efficient, but were lengthened to reduce memory errors. You will also notice that after certain blocks of code, I outputted the dataframe to a csv. Some blocks of code took more than an hour to run. So to save my progress and make sure that I would not waste time re-running previous code, I would output my progress to a csv and then read it back in. I did not include these datasets in the repository, but have kept the code in the notebook.\n",
    "\n",
    "The BTS website did not allow users to download full years of data. I downloaded data from the BTS website month by month from 2009 to 2017 and then used `pandas` to merge the data together. If you are interested in downloading the merged data as well as the cleaned data [click here](https://drive.google.com/open?id=1L1jx_CgARXZ1fpgetbvbON9a5AAr19XO).\n",
    "\n",
    "Finally, after the cleaning process I ended up with 53,068,460 rows resulting in keeping 97% of the data. I was also able to bring the memory usage of the dataset from 11.8 GB to 5.7 GB."
   ]
  },
  {
   "cell_type": "code",
   "execution_count": 1,
   "metadata": {},
   "outputs": [],
   "source": [
    "import pandas as pd\n",
    "import numpy as np\n",
    "import os\n",
    "import datetime\n",
    "pd.set_option('display.height', 1000)\n",
    "pd.set_option('display.max_rows', 500)\n",
    "pd.set_option('display.max_columns', 500)\n",
    "pd.set_option('display.width', 1000)"
   ]
  },
  {
   "cell_type": "code",
   "execution_count": 2,
   "metadata": {},
   "outputs": [],
   "source": [
    "file_list = os.listdir('month_data')"
   ]
  },
  {
   "cell_type": "code",
   "execution_count": 3,
   "metadata": {},
   "outputs": [
    {
     "name": "stderr",
     "output_type": "stream",
     "text": [
      "C:\\Users\\kster\\Anaconda3\\lib\\site-packages\\IPython\\core\\interactiveshell.py:2850: DtypeWarning: Columns (18) have mixed types. Specify dtype option on import or set low_memory=False.\n",
      "  if self.run_code(code, result):\n"
     ]
    }
   ],
   "source": [
    "combined_csv = pd.concat([pd.read_csv('month_data/' + f) for f in file_list])"
   ]
  },
  {
   "cell_type": "code",
   "execution_count": 4,
   "metadata": {},
   "outputs": [],
   "source": [
    "# change all columns to lowercase\n",
    "combined_csv.columns = map(str.lower, combined_csv.columns)"
   ]
  },
  {
   "cell_type": "code",
   "execution_count": 5,
   "metadata": {},
   "outputs": [],
   "source": [
    "# reset index\n",
    "combined_csv.index = range(len(combined_csv.index))"
   ]
  },
  {
   "cell_type": "code",
   "execution_count": 6,
   "metadata": {},
   "outputs": [],
   "source": [
    "# drop unnamed column\n",
    "combined_csv = combined_csv.drop('unnamed: 29', axis = 1)"
   ]
  },
  {
   "cell_type": "code",
   "execution_count": 11,
   "metadata": {},
   "outputs": [],
   "source": [
    "# output to csv to save memory\n",
    "combined_csv.to_csv('combined_df.csv', index = False)"
   ]
  },
  {
   "cell_type": "markdown",
   "metadata": {},
   "source": [
    "# Assess"
   ]
  },
  {
   "cell_type": "code",
   "execution_count": 3,
   "metadata": {},
   "outputs": [
    {
     "name": "stderr",
     "output_type": "stream",
     "text": [
      "C:\\Users\\kster\\Anaconda3\\lib\\site-packages\\IPython\\core\\interactiveshell.py:2728: DtypeWarning: Columns (18) have mixed types. Specify dtype option on import or set low_memory=False.\n",
      "  interactivity=interactivity, compiler=compiler, result=result)\n"
     ]
    }
   ],
   "source": [
    "df = pd.read_csv('combined_df.csv')"
   ]
  },
  {
   "cell_type": "code",
   "execution_count": 4,
   "metadata": {},
   "outputs": [
    {
     "data": {
      "text/html": [
       "<div>\n",
       "<style scoped>\n",
       "    .dataframe tbody tr th:only-of-type {\n",
       "        vertical-align: middle;\n",
       "    }\n",
       "\n",
       "    .dataframe tbody tr th {\n",
       "        vertical-align: top;\n",
       "    }\n",
       "\n",
       "    .dataframe thead th {\n",
       "        text-align: right;\n",
       "    }\n",
       "</style>\n",
       "<table border=\"1\" class=\"dataframe\">\n",
       "  <thead>\n",
       "    <tr style=\"text-align: right;\">\n",
       "      <th></th>\n",
       "      <th>year</th>\n",
       "      <th>month</th>\n",
       "      <th>day_of_month</th>\n",
       "      <th>day_of_week</th>\n",
       "      <th>unique_carrier</th>\n",
       "      <th>tail_num</th>\n",
       "      <th>fl_num</th>\n",
       "      <th>origin</th>\n",
       "      <th>dest</th>\n",
       "      <th>crs_dep_time</th>\n",
       "      <th>dep_time</th>\n",
       "      <th>dep_delay</th>\n",
       "      <th>taxi_out</th>\n",
       "      <th>taxi_in</th>\n",
       "      <th>crs_arr_time</th>\n",
       "      <th>arr_time</th>\n",
       "      <th>arr_delay</th>\n",
       "      <th>cancelled</th>\n",
       "      <th>cancellation_code</th>\n",
       "      <th>diverted</th>\n",
       "      <th>crs_elapsed_time</th>\n",
       "      <th>actual_elapsed_time</th>\n",
       "      <th>air_time</th>\n",
       "      <th>distance</th>\n",
       "      <th>carrier_delay</th>\n",
       "      <th>weather_delay</th>\n",
       "      <th>nas_delay</th>\n",
       "      <th>security_delay</th>\n",
       "      <th>late_aircraft_delay</th>\n",
       "    </tr>\n",
       "  </thead>\n",
       "  <tbody>\n",
       "    <tr>\n",
       "      <th>0</th>\n",
       "      <td>2009</td>\n",
       "      <td>1</td>\n",
       "      <td>13</td>\n",
       "      <td>2</td>\n",
       "      <td>DL</td>\n",
       "      <td>N688DL</td>\n",
       "      <td>1237</td>\n",
       "      <td>ATL</td>\n",
       "      <td>RSW</td>\n",
       "      <td>1451.0</td>\n",
       "      <td>1447.0</td>\n",
       "      <td>-4.0</td>\n",
       "      <td>23.0</td>\n",
       "      <td>5.0</td>\n",
       "      <td>1636.0</td>\n",
       "      <td>1656.0</td>\n",
       "      <td>20.0</td>\n",
       "      <td>0.0</td>\n",
       "      <td>NaN</td>\n",
       "      <td>0.0</td>\n",
       "      <td>105.0</td>\n",
       "      <td>129.0</td>\n",
       "      <td>101.0</td>\n",
       "      <td>515.0</td>\n",
       "      <td>0.0</td>\n",
       "      <td>0.0</td>\n",
       "      <td>20.0</td>\n",
       "      <td>0.0</td>\n",
       "      <td>0.0</td>\n",
       "    </tr>\n",
       "    <tr>\n",
       "      <th>1</th>\n",
       "      <td>2009</td>\n",
       "      <td>1</td>\n",
       "      <td>13</td>\n",
       "      <td>2</td>\n",
       "      <td>DL</td>\n",
       "      <td>N3752</td>\n",
       "      <td>1239</td>\n",
       "      <td>SLC</td>\n",
       "      <td>PDX</td>\n",
       "      <td>2020.0</td>\n",
       "      <td>2027.0</td>\n",
       "      <td>7.0</td>\n",
       "      <td>17.0</td>\n",
       "      <td>5.0</td>\n",
       "      <td>2127.0</td>\n",
       "      <td>2127.0</td>\n",
       "      <td>0.0</td>\n",
       "      <td>0.0</td>\n",
       "      <td>NaN</td>\n",
       "      <td>0.0</td>\n",
       "      <td>127.0</td>\n",
       "      <td>120.0</td>\n",
       "      <td>98.0</td>\n",
       "      <td>630.0</td>\n",
       "      <td>NaN</td>\n",
       "      <td>NaN</td>\n",
       "      <td>NaN</td>\n",
       "      <td>NaN</td>\n",
       "      <td>NaN</td>\n",
       "    </tr>\n",
       "    <tr>\n",
       "      <th>2</th>\n",
       "      <td>2009</td>\n",
       "      <td>1</td>\n",
       "      <td>13</td>\n",
       "      <td>2</td>\n",
       "      <td>DL</td>\n",
       "      <td>N913DN</td>\n",
       "      <td>1240</td>\n",
       "      <td>SLC</td>\n",
       "      <td>ORD</td>\n",
       "      <td>1055.0</td>\n",
       "      <td>1052.0</td>\n",
       "      <td>-3.0</td>\n",
       "      <td>25.0</td>\n",
       "      <td>16.0</td>\n",
       "      <td>1523.0</td>\n",
       "      <td>1507.0</td>\n",
       "      <td>-16.0</td>\n",
       "      <td>0.0</td>\n",
       "      <td>NaN</td>\n",
       "      <td>0.0</td>\n",
       "      <td>208.0</td>\n",
       "      <td>195.0</td>\n",
       "      <td>154.0</td>\n",
       "      <td>1249.0</td>\n",
       "      <td>NaN</td>\n",
       "      <td>NaN</td>\n",
       "      <td>NaN</td>\n",
       "      <td>NaN</td>\n",
       "      <td>NaN</td>\n",
       "    </tr>\n",
       "    <tr>\n",
       "      <th>3</th>\n",
       "      <td>2009</td>\n",
       "      <td>1</td>\n",
       "      <td>13</td>\n",
       "      <td>2</td>\n",
       "      <td>DL</td>\n",
       "      <td>N915DN</td>\n",
       "      <td>1241</td>\n",
       "      <td>DTW</td>\n",
       "      <td>SLC</td>\n",
       "      <td>1640.0</td>\n",
       "      <td>1638.0</td>\n",
       "      <td>-2.0</td>\n",
       "      <td>13.0</td>\n",
       "      <td>4.0</td>\n",
       "      <td>1843.0</td>\n",
       "      <td>1833.0</td>\n",
       "      <td>-10.0</td>\n",
       "      <td>0.0</td>\n",
       "      <td>NaN</td>\n",
       "      <td>0.0</td>\n",
       "      <td>243.0</td>\n",
       "      <td>235.0</td>\n",
       "      <td>218.0</td>\n",
       "      <td>1481.0</td>\n",
       "      <td>NaN</td>\n",
       "      <td>NaN</td>\n",
       "      <td>NaN</td>\n",
       "      <td>NaN</td>\n",
       "      <td>NaN</td>\n",
       "    </tr>\n",
       "    <tr>\n",
       "      <th>4</th>\n",
       "      <td>2009</td>\n",
       "      <td>1</td>\n",
       "      <td>13</td>\n",
       "      <td>2</td>\n",
       "      <td>DL</td>\n",
       "      <td>N915DN</td>\n",
       "      <td>1242</td>\n",
       "      <td>BOI</td>\n",
       "      <td>SLC</td>\n",
       "      <td>755.0</td>\n",
       "      <td>749.0</td>\n",
       "      <td>-6.0</td>\n",
       "      <td>18.0</td>\n",
       "      <td>6.0</td>\n",
       "      <td>907.0</td>\n",
       "      <td>903.0</td>\n",
       "      <td>-4.0</td>\n",
       "      <td>0.0</td>\n",
       "      <td>NaN</td>\n",
       "      <td>0.0</td>\n",
       "      <td>72.0</td>\n",
       "      <td>74.0</td>\n",
       "      <td>50.0</td>\n",
       "      <td>291.0</td>\n",
       "      <td>NaN</td>\n",
       "      <td>NaN</td>\n",
       "      <td>NaN</td>\n",
       "      <td>NaN</td>\n",
       "      <td>NaN</td>\n",
       "    </tr>\n",
       "  </tbody>\n",
       "</table>\n",
       "</div>"
      ],
      "text/plain": [
       "   year  month  day_of_month  day_of_week unique_carrier tail_num  fl_num origin dest  crs_dep_time  dep_time  dep_delay  taxi_out  taxi_in  crs_arr_time  arr_time  arr_delay  cancelled cancellation_code  diverted  crs_elapsed_time  actual_elapsed_time  air_time  distance  carrier_delay  weather_delay  nas_delay  security_delay  late_aircraft_delay\n",
       "0  2009      1            13            2             DL   N688DL    1237    ATL  RSW        1451.0    1447.0       -4.0      23.0      5.0        1636.0    1656.0       20.0        0.0               NaN       0.0             105.0                129.0     101.0     515.0            0.0            0.0       20.0             0.0                  0.0\n",
       "1  2009      1            13            2             DL    N3752    1239    SLC  PDX        2020.0    2027.0        7.0      17.0      5.0        2127.0    2127.0        0.0        0.0               NaN       0.0             127.0                120.0      98.0     630.0            NaN            NaN        NaN             NaN                  NaN\n",
       "2  2009      1            13            2             DL   N913DN    1240    SLC  ORD        1055.0    1052.0       -3.0      25.0     16.0        1523.0    1507.0      -16.0        0.0               NaN       0.0             208.0                195.0     154.0    1249.0            NaN            NaN        NaN             NaN                  NaN\n",
       "3  2009      1            13            2             DL   N915DN    1241    DTW  SLC        1640.0    1638.0       -2.0      13.0      4.0        1843.0    1833.0      -10.0        0.0               NaN       0.0             243.0                235.0     218.0    1481.0            NaN            NaN        NaN             NaN                  NaN\n",
       "4  2009      1            13            2             DL   N915DN    1242    BOI  SLC         755.0     749.0       -6.0      18.0      6.0         907.0     903.0       -4.0        0.0               NaN       0.0              72.0                 74.0      50.0     291.0            NaN            NaN        NaN             NaN                  NaN"
      ]
     },
     "execution_count": 4,
     "metadata": {},
     "output_type": "execute_result"
    }
   ],
   "source": [
    "df.head()"
   ]
  },
  {
   "cell_type": "code",
   "execution_count": 5,
   "metadata": {},
   "outputs": [
    {
     "name": "stdout",
     "output_type": "stream",
     "text": [
      "<class 'pandas.core.frame.DataFrame'>\n",
      "RangeIndex: 54383096 entries, 0 to 54383095\n",
      "Data columns (total 29 columns):\n",
      "year                   int64\n",
      "month                  int64\n",
      "day_of_month           int64\n",
      "day_of_week            int64\n",
      "unique_carrier         object\n",
      "tail_num               object\n",
      "fl_num                 int64\n",
      "origin                 object\n",
      "dest                   object\n",
      "crs_dep_time           float64\n",
      "dep_time               float64\n",
      "dep_delay              float64\n",
      "taxi_out               float64\n",
      "taxi_in                float64\n",
      "crs_arr_time           float64\n",
      "arr_time               float64\n",
      "arr_delay              float64\n",
      "cancelled              float64\n",
      "cancellation_code      object\n",
      "diverted               float64\n",
      "crs_elapsed_time       float64\n",
      "actual_elapsed_time    float64\n",
      "air_time               float64\n",
      "distance               float64\n",
      "carrier_delay          float64\n",
      "weather_delay          float64\n",
      "nas_delay              float64\n",
      "security_delay         float64\n",
      "late_aircraft_delay    float64\n",
      "dtypes: float64(19), int64(5), object(5)\n",
      "memory usage: 11.8+ GB\n"
     ]
    }
   ],
   "source": [
    "df.info()"
   ]
  },
  {
   "cell_type": "markdown",
   "metadata": {},
   "source": [
    "* combine `year`, `month`, `day-of-month`, and `day_of_week` into one column in DateTime format\n",
    "* turn `fl_num` into string\n",
    "* `crs_arr_time`, and `arrtime` are in hhmm format, change it to standard time\n",
    "* `cancelled` to bool, 1 = True, 0 = False\n",
    "* `cancellation_code` has values of NaN, A, B, C, and D. Each needs to be changed.\n",
    "* `diverted` to bool, 1 = True, 0 = False"
   ]
  },
  {
   "cell_type": "markdown",
   "metadata": {},
   "source": [
    "# Clean"
   ]
  },
  {
   "cell_type": "markdown",
   "metadata": {},
   "source": [
    "### Define"
   ]
  },
  {
   "cell_type": "markdown",
   "metadata": {},
   "source": [
    "* Drop `day_of_week`, `tail_num` columns, they are not needed\n",
    "* To change `crs_dep_time`, `dep_time`, `crs_arr_time`, and `arr_time` to a standard time format, we need to turn them into integers, then into a different format.\n",
    "    * turn into int\n",
    "    * then turn string\n",
    "    * use `year`, `month`, `day_of_month` to do below steps\n",
    "    * use `datetime.datetime.strptime('orginal_format', '%H:%M').strftime('%I:%M %p')`\n",
    "    * then `df['datetime'] = df['year'].map(str) + ' ' + df['month'].map(str) + ' ' + df['day_of_month'].map(str) + ' ' + df['crs_arr_time'].map(str)`\n",
    "    * if there are errors, drop the row\n",
    "    * drop `year`, `month`, `day_of_month`, `crs_dep_time`, `dep_time`, `crs_arr_time`, and `arr_time`, these columns will be combined into 4 datetime columns\n",
    "* drop all flights that were cancelled\n",
    "    * where `cancelled` = 1.0\n",
    "    * drop row\n",
    "* drop all flights that were diverted\n",
    "    * where `diverted` = 1.0\n",
    "    * drop row\n",
    "* combine delay columns into one column\n",
    "    * combine `carrier_delay`, `nas_delay`, `weather_delay`, `security_delay`, and `late_aircraft_delay`\n",
    "        * create a column that holds the value 0.0\n",
    "        * loop through the above columns, if column, row, has value, add to created column\n",
    "        * if no value, continue loop\n",
    "        * create similar loop that creates a \"label\" column\n",
    "    * drop above columns\n",
    "* `diverted` to bool, 1 = True, 0 = False\n",
    "    * use `df[column] = df[column].replace(replacements_dict)`"
   ]
  },
  {
   "cell_type": "markdown",
   "metadata": {},
   "source": [
    "### Code"
   ]
  },
  {
   "cell_type": "code",
   "execution_count": 6,
   "metadata": {},
   "outputs": [],
   "source": [
    "# drop day_of_week\n",
    "df.drop('day_of_week', axis = 1, inplace = True)"
   ]
  },
  {
   "cell_type": "code",
   "execution_count": 7,
   "metadata": {},
   "outputs": [],
   "source": [
    "# drop tail_num\n",
    "df.drop('tail_num', axis = 1, inplace = True)"
   ]
  },
  {
   "cell_type": "code",
   "execution_count": 8,
   "metadata": {},
   "outputs": [],
   "source": [
    "# drop flights that were cancelled\n",
    "df = df.loc[df.cancelled != 1.0]"
   ]
  },
  {
   "cell_type": "code",
   "execution_count": 9,
   "metadata": {},
   "outputs": [],
   "source": [
    "# drop cancelled row\n",
    "df.drop('cancelled', axis = 1, inplace = True)"
   ]
  },
  {
   "cell_type": "code",
   "execution_count": 10,
   "metadata": {},
   "outputs": [],
   "source": [
    "# drop flights that were diverted\n",
    "df = df.loc[df.diverted != 1.0]"
   ]
  },
  {
   "cell_type": "code",
   "execution_count": 11,
   "metadata": {},
   "outputs": [],
   "source": [
    "# drop diverted row\n",
    "df.drop('diverted', axis = 1, inplace = True)"
   ]
  },
  {
   "cell_type": "code",
   "execution_count": 12,
   "metadata": {},
   "outputs": [],
   "source": [
    "# drop outliers with missing data\n",
    "df.dropna(subset=['crs_dep_time', 'taxi_in', 'crs_arr_time', 'arr_time', \n",
    "                       'arr_delay', 'crs_elapsed_time', 'actual_elapsed_time', \n",
    "                       'air_time'], inplace = True)"
   ]
  },
  {
   "cell_type": "code",
   "execution_count": 13,
   "metadata": {},
   "outputs": [],
   "source": [
    "# turn crs_arr_time, arr_time, crs_dep_time, dep_time to int\n",
    "df['crs_arr_time'] = df['crs_arr_time'].astype(int)"
   ]
  },
  {
   "cell_type": "code",
   "execution_count": 14,
   "metadata": {},
   "outputs": [],
   "source": [
    "df['arr_time'] = df['arr_time'].astype(int)"
   ]
  },
  {
   "cell_type": "code",
   "execution_count": 15,
   "metadata": {},
   "outputs": [],
   "source": [
    "df['crs_dep_time'] = df['crs_dep_time'].astype(int)"
   ]
  },
  {
   "cell_type": "code",
   "execution_count": 16,
   "metadata": {},
   "outputs": [],
   "source": [
    "df['dep_time'] = df['dep_time'].astype(int)"
   ]
  },
  {
   "cell_type": "code",
   "execution_count": 17,
   "metadata": {},
   "outputs": [],
   "source": [
    "# now turn them into strings\n",
    "df['crs_arr_time'] = df['crs_arr_time'].astype(str)"
   ]
  },
  {
   "cell_type": "code",
   "execution_count": 18,
   "metadata": {},
   "outputs": [],
   "source": [
    "df['arr_time'] = df['arr_time'].astype(str)"
   ]
  },
  {
   "cell_type": "code",
   "execution_count": 15,
   "metadata": {},
   "outputs": [],
   "source": [
    "df['crs_dep_time'] = df['crs_dep_time'].astype(str)"
   ]
  },
  {
   "cell_type": "code",
   "execution_count": 4,
   "metadata": {},
   "outputs": [],
   "source": [
    "df['dep_time'] = df['dep_time'].astype(str)"
   ]
  },
  {
   "cell_type": "code",
   "execution_count": 3,
   "metadata": {},
   "outputs": [],
   "source": [
    "# turn columns into standard time format\n",
    "def std_time(string):\n",
    "    try:\n",
    "        return datetime.datetime.strptime(string, '%H%M').strftime('%I:%M%p')\n",
    "    except:\n",
    "        dep_errors.append(string)"
   ]
  },
  {
   "cell_type": "code",
   "execution_count": 23,
   "metadata": {},
   "outputs": [
    {
     "name": "stdout",
     "output_type": "stream",
     "text": [
      "there were 105688 errors\n"
     ]
    }
   ],
   "source": [
    "crs_arr_errors = []\n",
    "df['crs_arr_time'] = df['crs_arr_time'].apply(lambda x: std_time(x))\n",
    "print('there were %s errors' % len(crs_arr_errors))"
   ]
  },
  {
   "cell_type": "code",
   "execution_count": 27,
   "metadata": {},
   "outputs": [],
   "source": [
    "# drop rows that had errors in time conversion\n",
    "df = df[~df['crs_arr_time'].isin(crs_arr_errors)]"
   ]
  },
  {
   "cell_type": "code",
   "execution_count": 29,
   "metadata": {},
   "outputs": [
    {
     "name": "stdout",
     "output_type": "stream",
     "text": [
      "there were 0 errors\n"
     ]
    }
   ],
   "source": [
    "arr_errors = []\n",
    "df['arr_time'] = df['arr_time'].apply(lambda x: std_time(x))\n",
    "print('there were %s errors' % len(arr_errors))"
   ]
  },
  {
   "cell_type": "code",
   "execution_count": 34,
   "metadata": {},
   "outputs": [],
   "source": [
    "# to csv to save memory\n",
    "df.to_csv('clean_df_1.csv', index = False)"
   ]
  },
  {
   "cell_type": "code",
   "execution_count": 7,
   "metadata": {},
   "outputs": [],
   "source": [
    "df = pd.read_csv('clean_df_1.csv')"
   ]
  },
  {
   "cell_type": "code",
   "execution_count": 21,
   "metadata": {},
   "outputs": [
    {
     "name": "stdout",
     "output_type": "stream",
     "text": [
      "there were 4063 errors\n"
     ]
    }
   ],
   "source": [
    "crs_dep_errors = []\n",
    "df['crs_dep_time'] = df['crs_dep_time'].apply(lambda x: std_time(x))\n",
    "print('there were %s errors' % len(crs_dep_errors))"
   ]
  },
  {
   "cell_type": "code",
   "execution_count": 23,
   "metadata": {},
   "outputs": [],
   "source": [
    "df = df[~df['crs_dep_time'].isin(crs_dep_errors)]"
   ]
  },
  {
   "cell_type": "code",
   "execution_count": 28,
   "metadata": {},
   "outputs": [],
   "source": [
    "#to csv to save memory\n",
    "df.to_csv('clean_df_2.csv', index = False)"
   ]
  },
  {
   "cell_type": "code",
   "execution_count": 2,
   "metadata": {},
   "outputs": [],
   "source": [
    "df = pd.read_csv('clean_df_2.csv')"
   ]
  },
  {
   "cell_type": "code",
   "execution_count": 6,
   "metadata": {},
   "outputs": [
    {
     "name": "stdout",
     "output_type": "stream",
     "text": [
      "there were 35232 errors\n"
     ]
    }
   ],
   "source": [
    "dep_errors = []\n",
    "df['dep_time'] = df['dep_time'].apply(lambda x: std_time(x))\n",
    "print('there were %s errors' % len(dep_errors))"
   ]
  },
  {
   "cell_type": "code",
   "execution_count": 7,
   "metadata": {},
   "outputs": [],
   "source": [
    "df = df[~df['dep_time'].isin(dep_errors)]"
   ]
  },
  {
   "cell_type": "code",
   "execution_count": 9,
   "metadata": {},
   "outputs": [],
   "source": [
    "# combine values from year, month, day_of_month, and time column\n",
    "df['datetime_crs_arr_time'] = df['year'].map(str) + ' ' + df['month'].map(str) + ' ' + df['day_of_month'].map(str) + ' ' + df['crs_arr_time']"
   ]
  },
  {
   "cell_type": "code",
   "execution_count": 10,
   "metadata": {},
   "outputs": [],
   "source": [
    "df['datetime_arr_time'] = df['year'].map(str) + ' ' + df['month'].map(str) + ' ' + df['day_of_month'].map(str) + ' ' + df['arr_time']"
   ]
  },
  {
   "cell_type": "code",
   "execution_count": 11,
   "metadata": {},
   "outputs": [],
   "source": [
    "df['datetime_crs_dep_time'] = df['year'].map(str) + ' ' + df['month'].map(str) + ' ' + df['day_of_month'].map(str) + ' ' + df['crs_dep_time']"
   ]
  },
  {
   "cell_type": "code",
   "execution_count": 12,
   "metadata": {},
   "outputs": [],
   "source": [
    "df['datetime_dep_time'] = df['year'].map(str) + ' ' + df['month'].map(str) + ' ' + df['day_of_month'].map(str) + ' ' + df['dep_time']"
   ]
  },
  {
   "cell_type": "code",
   "execution_count": 14,
   "metadata": {},
   "outputs": [],
   "source": [
    "df.to_csv('clean_df_3.csv', index = False)"
   ]
  },
  {
   "cell_type": "code",
   "execution_count": 2,
   "metadata": {},
   "outputs": [],
   "source": [
    "df = pd.read_csv('clean_df_3.csv')"
   ]
  },
  {
   "cell_type": "code",
   "execution_count": 4,
   "metadata": {},
   "outputs": [],
   "source": [
    "# turn columns into datetime\n",
    "df['datetime_crs_arr_time'] = pd.to_datetime(df['datetime_crs_arr_time'])"
   ]
  },
  {
   "cell_type": "code",
   "execution_count": 7,
   "metadata": {},
   "outputs": [],
   "source": [
    "df['datetime_arr_time'] = pd.to_datetime(df['datetime_arr_time'])"
   ]
  },
  {
   "cell_type": "code",
   "execution_count": 9,
   "metadata": {},
   "outputs": [],
   "source": [
    "df['datetime_crs_dep_time'] = pd.to_datetime(df['datetime_crs_dep_time'])"
   ]
  },
  {
   "cell_type": "code",
   "execution_count": 11,
   "metadata": {},
   "outputs": [],
   "source": [
    "df['datetime_dep_time'] = pd.to_datetime(df['datetime_dep_time'])"
   ]
  },
  {
   "cell_type": "code",
   "execution_count": null,
   "metadata": {},
   "outputs": [],
   "source": [
    "# to csv to save memory\n",
    "df.to_csv('clean_df_4.csv', index = False)"
   ]
  },
  {
   "cell_type": "code",
   "execution_count": 3,
   "metadata": {},
   "outputs": [],
   "source": [
    "df = pd.read_csv('clean_df_4.csv')"
   ]
  },
  {
   "cell_type": "code",
   "execution_count": 5,
   "metadata": {},
   "outputs": [],
   "source": [
    "# drop year, month, day_of_month, crs_dep_time, dep_time, crs_arr_time, cancellation_code, and arr_delay\n",
    "df.drop('year', axis = 1, inplace = True)"
   ]
  },
  {
   "cell_type": "code",
   "execution_count": 6,
   "metadata": {},
   "outputs": [],
   "source": [
    "df.drop('month', axis = 1, inplace = True)"
   ]
  },
  {
   "cell_type": "code",
   "execution_count": 7,
   "metadata": {},
   "outputs": [],
   "source": [
    "df.drop('day_of_month', axis = 1, inplace = True)"
   ]
  },
  {
   "cell_type": "code",
   "execution_count": 8,
   "metadata": {},
   "outputs": [],
   "source": [
    "df.drop('crs_dep_time', axis = 1, inplace = True)"
   ]
  },
  {
   "cell_type": "code",
   "execution_count": 9,
   "metadata": {},
   "outputs": [],
   "source": [
    "df.drop('dep_time', axis = 1, inplace = True)"
   ]
  },
  {
   "cell_type": "code",
   "execution_count": 10,
   "metadata": {},
   "outputs": [],
   "source": [
    "df.drop('crs_arr_time', axis = 1, inplace = True)"
   ]
  },
  {
   "cell_type": "code",
   "execution_count": 11,
   "metadata": {},
   "outputs": [],
   "source": [
    "df.drop('arr_time', axis = 1, inplace = True)"
   ]
  },
  {
   "cell_type": "code",
   "execution_count": 12,
   "metadata": {},
   "outputs": [],
   "source": [
    "df.drop('cancellation_code', axis = 1, inplace = True)"
   ]
  },
  {
   "cell_type": "code",
   "execution_count": 13,
   "metadata": {},
   "outputs": [],
   "source": [
    "# fill nan values in the delay columns with zero's\n",
    "df[['carrier_delay', 'weather_delay', 'nas_delay', 'security_delay', 'late_aircraft_delay']] = df[['carrier_delay', 'weather_delay', 'nas_delay', 'security_delay', 'late_aircraft_delay']].fillna(0)"
   ]
  },
  {
   "cell_type": "code",
   "execution_count": 20,
   "metadata": {},
   "outputs": [],
   "source": [
    "# combine delay columns into one label column\n",
    "cols = ['carrier_delay', 'weather_delay', 'nas_delay', 'security_delay', 'late_aircraft_delay']\n",
    "\n",
    "# make a new no delay column\n",
    "df['delay_label'] = 'no_delay'\n",
    "\n",
    "# loop through columns, if all are 0, move on\n",
    "# if not, set cell to delay label\n",
    "for i in df.index:\n",
    "    for col in cols:\n",
    "        if df.at[i, col] <= 0.0:\n",
    "            continue\n",
    "        else:\n",
    "            df.at[i, 'delay_label'] = col"
   ]
  },
  {
   "cell_type": "code",
   "execution_count": 21,
   "metadata": {},
   "outputs": [],
   "source": [
    "df['delay_amount'] = 0.0\n",
    "\n",
    "# loop through columns, if all are 0, move on\n",
    "# if not, set cell to the original column/cell value\n",
    "for i in df.index:\n",
    "    for col in cols:\n",
    "        if df.at[i, col] <= 0.0:\n",
    "            continue\n",
    "        else:\n",
    "            df.at[i, 'delay_amount'] = df[col].iloc[i]"
   ]
  },
  {
   "cell_type": "code",
   "execution_count": 23,
   "metadata": {},
   "outputs": [],
   "source": [
    "df.to_csv('clean_df_5.csv', index = False)"
   ]
  },
  {
   "cell_type": "code",
   "execution_count": 2,
   "metadata": {},
   "outputs": [],
   "source": [
    "df = pd.read_csv('clean_df_5.csv')"
   ]
  },
  {
   "cell_type": "code",
   "execution_count": 6,
   "metadata": {},
   "outputs": [],
   "source": [
    "# drop carrier_delay, weather_delay, nas_delay, security_delay, and late_aircraft_delay\n",
    "df.drop('carrier_delay', axis = 1, inplace = True)"
   ]
  },
  {
   "cell_type": "code",
   "execution_count": 7,
   "metadata": {},
   "outputs": [],
   "source": [
    "df.drop('weather_delay', axis = 1, inplace = True)"
   ]
  },
  {
   "cell_type": "code",
   "execution_count": 8,
   "metadata": {},
   "outputs": [],
   "source": [
    "df.drop('nas_delay', axis = 1, inplace = True)"
   ]
  },
  {
   "cell_type": "code",
   "execution_count": 9,
   "metadata": {},
   "outputs": [],
   "source": [
    "df.drop('security_delay', axis = 1, inplace = True)"
   ]
  },
  {
   "cell_type": "code",
   "execution_count": 10,
   "metadata": {},
   "outputs": [],
   "source": [
    "df.drop('late_aircraft_delay', axis = 1, inplace = True)"
   ]
  },
  {
   "cell_type": "code",
   "execution_count": 15,
   "metadata": {},
   "outputs": [],
   "source": [
    "# drop rows that have missing data in the time columns\n",
    "df.dropna(subset=['datetime_crs_arr_time', 'datetime_arr_time', 'datetime_crs_dep_time', 'datetime_dep_time'], inplace = True)"
   ]
  },
  {
   "cell_type": "code",
   "execution_count": 18,
   "metadata": {},
   "outputs": [],
   "source": [
    "# turn float columns to int\n",
    "df['dep_delay'] = df['dep_delay'].astype(int)"
   ]
  },
  {
   "cell_type": "code",
   "execution_count": 19,
   "metadata": {},
   "outputs": [],
   "source": [
    "df['taxi_out'] = df['taxi_out'].astype(int)"
   ]
  },
  {
   "cell_type": "code",
   "execution_count": 20,
   "metadata": {},
   "outputs": [],
   "source": [
    "df['taxi_in'] = df['taxi_in'].astype(int)"
   ]
  },
  {
   "cell_type": "code",
   "execution_count": 21,
   "metadata": {},
   "outputs": [],
   "source": [
    "df['arr_delay'] = df['arr_delay'].astype(int)"
   ]
  },
  {
   "cell_type": "code",
   "execution_count": 22,
   "metadata": {},
   "outputs": [],
   "source": [
    "df['crs_elapsed_time'] = df['crs_elapsed_time'].astype(int)"
   ]
  },
  {
   "cell_type": "code",
   "execution_count": 23,
   "metadata": {},
   "outputs": [],
   "source": [
    "df['actual_elapsed_time'] = df['actual_elapsed_time'].astype(int)"
   ]
  },
  {
   "cell_type": "code",
   "execution_count": 24,
   "metadata": {},
   "outputs": [],
   "source": [
    "df['air_time'] = df['air_time'].astype(int)"
   ]
  },
  {
   "cell_type": "code",
   "execution_count": 25,
   "metadata": {},
   "outputs": [],
   "source": [
    "df['distance'] = df['distance'].astype(int)"
   ]
  },
  {
   "cell_type": "code",
   "execution_count": 26,
   "metadata": {},
   "outputs": [],
   "source": [
    "df['delay_amount'] = df['delay_amount'].astype(int)"
   ]
  },
  {
   "cell_type": "markdown",
   "metadata": {},
   "source": [
    "### Test"
   ]
  },
  {
   "cell_type": "code",
   "execution_count": 27,
   "metadata": {},
   "outputs": [
    {
     "data": {
      "text/html": [
       "<div>\n",
       "<style scoped>\n",
       "    .dataframe tbody tr th:only-of-type {\n",
       "        vertical-align: middle;\n",
       "    }\n",
       "\n",
       "    .dataframe tbody tr th {\n",
       "        vertical-align: top;\n",
       "    }\n",
       "\n",
       "    .dataframe thead th {\n",
       "        text-align: right;\n",
       "    }\n",
       "</style>\n",
       "<table border=\"1\" class=\"dataframe\">\n",
       "  <thead>\n",
       "    <tr style=\"text-align: right;\">\n",
       "      <th></th>\n",
       "      <th>unique_carrier</th>\n",
       "      <th>fl_num</th>\n",
       "      <th>origin</th>\n",
       "      <th>dest</th>\n",
       "      <th>dep_delay</th>\n",
       "      <th>taxi_out</th>\n",
       "      <th>taxi_in</th>\n",
       "      <th>arr_delay</th>\n",
       "      <th>crs_elapsed_time</th>\n",
       "      <th>actual_elapsed_time</th>\n",
       "      <th>air_time</th>\n",
       "      <th>distance</th>\n",
       "      <th>datetime_crs_arr_time</th>\n",
       "      <th>datetime_arr_time</th>\n",
       "      <th>datetime_crs_dep_time</th>\n",
       "      <th>datetime_dep_time</th>\n",
       "      <th>delay_label</th>\n",
       "      <th>delay_amount</th>\n",
       "    </tr>\n",
       "  </thead>\n",
       "  <tbody>\n",
       "    <tr>\n",
       "      <th>0</th>\n",
       "      <td>DL</td>\n",
       "      <td>1237</td>\n",
       "      <td>ATL</td>\n",
       "      <td>RSW</td>\n",
       "      <td>-4</td>\n",
       "      <td>23</td>\n",
       "      <td>5</td>\n",
       "      <td>20</td>\n",
       "      <td>105</td>\n",
       "      <td>129</td>\n",
       "      <td>101</td>\n",
       "      <td>515</td>\n",
       "      <td>2009-01-13 16:36:00</td>\n",
       "      <td>2009-01-13 16:56:00</td>\n",
       "      <td>2009-01-13 14:51:00</td>\n",
       "      <td>2009-01-13 14:47:00</td>\n",
       "      <td>nas_delay</td>\n",
       "      <td>20</td>\n",
       "    </tr>\n",
       "    <tr>\n",
       "      <th>1</th>\n",
       "      <td>DL</td>\n",
       "      <td>1239</td>\n",
       "      <td>SLC</td>\n",
       "      <td>PDX</td>\n",
       "      <td>7</td>\n",
       "      <td>17</td>\n",
       "      <td>5</td>\n",
       "      <td>0</td>\n",
       "      <td>127</td>\n",
       "      <td>120</td>\n",
       "      <td>98</td>\n",
       "      <td>630</td>\n",
       "      <td>2009-01-13 21:27:00</td>\n",
       "      <td>2009-01-13 21:27:00</td>\n",
       "      <td>2009-01-13 20:20:00</td>\n",
       "      <td>2009-01-13 20:27:00</td>\n",
       "      <td>no_delay</td>\n",
       "      <td>0</td>\n",
       "    </tr>\n",
       "    <tr>\n",
       "      <th>2</th>\n",
       "      <td>DL</td>\n",
       "      <td>1240</td>\n",
       "      <td>SLC</td>\n",
       "      <td>ORD</td>\n",
       "      <td>-3</td>\n",
       "      <td>25</td>\n",
       "      <td>16</td>\n",
       "      <td>-16</td>\n",
       "      <td>208</td>\n",
       "      <td>195</td>\n",
       "      <td>154</td>\n",
       "      <td>1249</td>\n",
       "      <td>2009-01-13 15:23:00</td>\n",
       "      <td>2009-01-13 15:07:00</td>\n",
       "      <td>2009-01-13 10:55:00</td>\n",
       "      <td>2009-01-13 10:52:00</td>\n",
       "      <td>no_delay</td>\n",
       "      <td>0</td>\n",
       "    </tr>\n",
       "    <tr>\n",
       "      <th>3</th>\n",
       "      <td>DL</td>\n",
       "      <td>1241</td>\n",
       "      <td>DTW</td>\n",
       "      <td>SLC</td>\n",
       "      <td>-2</td>\n",
       "      <td>13</td>\n",
       "      <td>4</td>\n",
       "      <td>-10</td>\n",
       "      <td>243</td>\n",
       "      <td>235</td>\n",
       "      <td>218</td>\n",
       "      <td>1481</td>\n",
       "      <td>2009-01-13 18:43:00</td>\n",
       "      <td>2009-01-13 18:33:00</td>\n",
       "      <td>2009-01-13 16:40:00</td>\n",
       "      <td>2009-01-13 16:38:00</td>\n",
       "      <td>no_delay</td>\n",
       "      <td>0</td>\n",
       "    </tr>\n",
       "    <tr>\n",
       "      <th>4</th>\n",
       "      <td>DL</td>\n",
       "      <td>1242</td>\n",
       "      <td>BOI</td>\n",
       "      <td>SLC</td>\n",
       "      <td>-6</td>\n",
       "      <td>18</td>\n",
       "      <td>6</td>\n",
       "      <td>-4</td>\n",
       "      <td>72</td>\n",
       "      <td>74</td>\n",
       "      <td>50</td>\n",
       "      <td>291</td>\n",
       "      <td>2009-01-13 09:07:00</td>\n",
       "      <td>2009-01-13 09:03:00</td>\n",
       "      <td>2009-01-13 07:55:00</td>\n",
       "      <td>2009-01-13 07:49:00</td>\n",
       "      <td>no_delay</td>\n",
       "      <td>0</td>\n",
       "    </tr>\n",
       "    <tr>\n",
       "      <th>5</th>\n",
       "      <td>DL</td>\n",
       "      <td>1242</td>\n",
       "      <td>SLC</td>\n",
       "      <td>DTW</td>\n",
       "      <td>-6</td>\n",
       "      <td>27</td>\n",
       "      <td>10</td>\n",
       "      <td>-8</td>\n",
       "      <td>224</td>\n",
       "      <td>222</td>\n",
       "      <td>185</td>\n",
       "      <td>1481</td>\n",
       "      <td>2009-01-13 15:44:00</td>\n",
       "      <td>2009-01-13 15:36:00</td>\n",
       "      <td>2009-01-13 10:00:00</td>\n",
       "      <td>2009-01-13 09:54:00</td>\n",
       "      <td>no_delay</td>\n",
       "      <td>0</td>\n",
       "    </tr>\n",
       "    <tr>\n",
       "      <th>6</th>\n",
       "      <td>DL</td>\n",
       "      <td>1243</td>\n",
       "      <td>CVG</td>\n",
       "      <td>DEN</td>\n",
       "      <td>115</td>\n",
       "      <td>24</td>\n",
       "      <td>8</td>\n",
       "      <td>116</td>\n",
       "      <td>185</td>\n",
       "      <td>186</td>\n",
       "      <td>154</td>\n",
       "      <td>1069</td>\n",
       "      <td>2009-01-13 09:50:00</td>\n",
       "      <td>2009-01-13 11:46:00</td>\n",
       "      <td>2009-01-13 08:45:00</td>\n",
       "      <td>2009-01-13 10:40:00</td>\n",
       "      <td>nas_delay</td>\n",
       "      <td>1</td>\n",
       "    </tr>\n",
       "    <tr>\n",
       "      <th>7</th>\n",
       "      <td>DL</td>\n",
       "      <td>1248</td>\n",
       "      <td>MCO</td>\n",
       "      <td>CVG</td>\n",
       "      <td>-8</td>\n",
       "      <td>21</td>\n",
       "      <td>5</td>\n",
       "      <td>-16</td>\n",
       "      <td>138</td>\n",
       "      <td>130</td>\n",
       "      <td>104</td>\n",
       "      <td>756</td>\n",
       "      <td>2009-01-13 16:05:00</td>\n",
       "      <td>2009-01-13 15:49:00</td>\n",
       "      <td>2009-01-13 13:47:00</td>\n",
       "      <td>2009-01-13 13:39:00</td>\n",
       "      <td>no_delay</td>\n",
       "      <td>0</td>\n",
       "    </tr>\n",
       "    <tr>\n",
       "      <th>8</th>\n",
       "      <td>DL</td>\n",
       "      <td>1249</td>\n",
       "      <td>CVG</td>\n",
       "      <td>MCO</td>\n",
       "      <td>8</td>\n",
       "      <td>13</td>\n",
       "      <td>8</td>\n",
       "      <td>20</td>\n",
       "      <td>129</td>\n",
       "      <td>141</td>\n",
       "      <td>120</td>\n",
       "      <td>756</td>\n",
       "      <td>2009-01-13 16:14:00</td>\n",
       "      <td>2009-01-13 16:34:00</td>\n",
       "      <td>2009-01-13 14:05:00</td>\n",
       "      <td>2009-01-13 14:13:00</td>\n",
       "      <td>late_aircraft_delay</td>\n",
       "      <td>8</td>\n",
       "    </tr>\n",
       "    <tr>\n",
       "      <th>9</th>\n",
       "      <td>DL</td>\n",
       "      <td>1250</td>\n",
       "      <td>MCO</td>\n",
       "      <td>CVG</td>\n",
       "      <td>0</td>\n",
       "      <td>14</td>\n",
       "      <td>5</td>\n",
       "      <td>-10</td>\n",
       "      <td>130</td>\n",
       "      <td>120</td>\n",
       "      <td>101</td>\n",
       "      <td>756</td>\n",
       "      <td>2009-01-13 19:10:00</td>\n",
       "      <td>2009-01-13 19:00:00</td>\n",
       "      <td>2009-01-13 17:00:00</td>\n",
       "      <td>2009-01-13 17:00:00</td>\n",
       "      <td>no_delay</td>\n",
       "      <td>0</td>\n",
       "    </tr>\n",
       "  </tbody>\n",
       "</table>\n",
       "</div>"
      ],
      "text/plain": [
       "  unique_carrier  fl_num origin dest  dep_delay  taxi_out  taxi_in  arr_delay  crs_elapsed_time  actual_elapsed_time  air_time  distance datetime_crs_arr_time    datetime_arr_time datetime_crs_dep_time    datetime_dep_time          delay_label  delay_amount\n",
       "0             DL    1237    ATL  RSW         -4        23        5         20               105                  129       101       515   2009-01-13 16:36:00  2009-01-13 16:56:00   2009-01-13 14:51:00  2009-01-13 14:47:00            nas_delay            20\n",
       "1             DL    1239    SLC  PDX          7        17        5          0               127                  120        98       630   2009-01-13 21:27:00  2009-01-13 21:27:00   2009-01-13 20:20:00  2009-01-13 20:27:00             no_delay             0\n",
       "2             DL    1240    SLC  ORD         -3        25       16        -16               208                  195       154      1249   2009-01-13 15:23:00  2009-01-13 15:07:00   2009-01-13 10:55:00  2009-01-13 10:52:00             no_delay             0\n",
       "3             DL    1241    DTW  SLC         -2        13        4        -10               243                  235       218      1481   2009-01-13 18:43:00  2009-01-13 18:33:00   2009-01-13 16:40:00  2009-01-13 16:38:00             no_delay             0\n",
       "4             DL    1242    BOI  SLC         -6        18        6         -4                72                   74        50       291   2009-01-13 09:07:00  2009-01-13 09:03:00   2009-01-13 07:55:00  2009-01-13 07:49:00             no_delay             0\n",
       "5             DL    1242    SLC  DTW         -6        27       10         -8               224                  222       185      1481   2009-01-13 15:44:00  2009-01-13 15:36:00   2009-01-13 10:00:00  2009-01-13 09:54:00             no_delay             0\n",
       "6             DL    1243    CVG  DEN        115        24        8        116               185                  186       154      1069   2009-01-13 09:50:00  2009-01-13 11:46:00   2009-01-13 08:45:00  2009-01-13 10:40:00            nas_delay             1\n",
       "7             DL    1248    MCO  CVG         -8        21        5        -16               138                  130       104       756   2009-01-13 16:05:00  2009-01-13 15:49:00   2009-01-13 13:47:00  2009-01-13 13:39:00             no_delay             0\n",
       "8             DL    1249    CVG  MCO          8        13        8         20               129                  141       120       756   2009-01-13 16:14:00  2009-01-13 16:34:00   2009-01-13 14:05:00  2009-01-13 14:13:00  late_aircraft_delay             8\n",
       "9             DL    1250    MCO  CVG          0        14        5        -10               130                  120       101       756   2009-01-13 19:10:00  2009-01-13 19:00:00   2009-01-13 17:00:00  2009-01-13 17:00:00             no_delay             0"
      ]
     },
     "execution_count": 27,
     "metadata": {},
     "output_type": "execute_result"
    }
   ],
   "source": [
    "df.head(10)"
   ]
  },
  {
   "cell_type": "code",
   "execution_count": 16,
   "metadata": {},
   "outputs": [
    {
     "data": {
      "text/plain": [
       "unique_carrier           0\n",
       "fl_num                   0\n",
       "origin                   0\n",
       "dest                     0\n",
       "dep_delay                0\n",
       "taxi_out                 0\n",
       "taxi_in                  0\n",
       "arr_delay                0\n",
       "crs_elapsed_time         0\n",
       "actual_elapsed_time      0\n",
       "air_time                 0\n",
       "distance                 0\n",
       "datetime_crs_arr_time    0\n",
       "datetime_arr_time        0\n",
       "datetime_crs_dep_time    0\n",
       "datetime_dep_time        0\n",
       "delay_label              0\n",
       "delay_amount             0\n",
       "dtype: int64"
      ]
     },
     "execution_count": 16,
     "metadata": {},
     "output_type": "execute_result"
    }
   ],
   "source": [
    "df.isna().sum()"
   ]
  },
  {
   "cell_type": "code",
   "execution_count": 28,
   "metadata": {},
   "outputs": [
    {
     "name": "stdout",
     "output_type": "stream",
     "text": [
      "<class 'pandas.core.frame.DataFrame'>\n",
      "Int64Index: 53068460 entries, 0 to 53396364\n",
      "Data columns (total 18 columns):\n",
      "unique_carrier           object\n",
      "fl_num                   int64\n",
      "origin                   object\n",
      "dest                     object\n",
      "dep_delay                int32\n",
      "taxi_out                 int32\n",
      "taxi_in                  int32\n",
      "arr_delay                int32\n",
      "crs_elapsed_time         int32\n",
      "actual_elapsed_time      int32\n",
      "air_time                 int32\n",
      "distance                 int32\n",
      "datetime_crs_arr_time    object\n",
      "datetime_arr_time        object\n",
      "datetime_crs_dep_time    object\n",
      "datetime_dep_time        object\n",
      "delay_label              object\n",
      "delay_amount             int32\n",
      "dtypes: int32(9), int64(1), object(8)\n",
      "memory usage: 5.7+ GB\n"
     ]
    }
   ],
   "source": [
    "df.info()"
   ]
  },
  {
   "cell_type": "code",
   "execution_count": 29,
   "metadata": {},
   "outputs": [],
   "source": [
    "# clean dataset to master csv file\n",
    "df.to_csv('flights_master.csv', index = False)"
   ]
  }
 ],
 "metadata": {
  "kernelspec": {
   "display_name": "Python 3",
   "language": "python",
   "name": "python3"
  },
  "language_info": {
   "codemirror_mode": {
    "name": "ipython",
    "version": 3
   },
   "file_extension": ".py",
   "mimetype": "text/x-python",
   "name": "python",
   "nbconvert_exporter": "python",
   "pygments_lexer": "ipython3",
   "version": "3.6.4"
  }
 },
 "nbformat": 4,
 "nbformat_minor": 2
}
