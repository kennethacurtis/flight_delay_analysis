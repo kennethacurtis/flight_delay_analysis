{
 "cells": [
  {
   "cell_type": "markdown",
   "metadata": {},
   "source": [
    "# Flight Delays in the U.S. Analysis\n",
    "\n",
    "### View the project\n",
    "\n",
    "* To the view the project, [click here](https://public.tableau.com/profile/kenneth5709#!/vizhome/FlightDelayAnalysis_16/FlightsStory?publish=yes)\n",
    "* If you are interested in looking at the gathering and cleaning of this data [click here](https://github.com/kennethacurtis/flight_delay_analysis)\n",
    "* The data set is really large, [click here to download it](https://drive.google.com/open?id=1L1jx_CgARXZ1fpgetbvbON9a5AAr19XO)\n",
    "\n",
    "### Summary\n",
    "\n",
    "This data comes from [The Bureau of Transportation Statistics](https://www.transtats.bts.gov) and tracks destinations, distance, and delay information of flights across U.S. For this project, I chose the years 2009 through 2017 resulting in 54,383,096 rows of data. To see a more detailed description of the date, click [here](https://www.transtats.bts.gov/Fields.asp?table_id=236).\n",
    "\n",
    "\n",
    "### Design\n",
    "\n",
    "When thinking about how I wanted to present the data, I knew in the beginning that I had to make a clear distinction at different types of delays. So I decided on red for departure delays, and blue for arrival delays. This particular design choice had this feedback:\n",
    "\n",
    "*I'd make sure you add that to your key and make sure it's is intuitively clear - usually people associate red with 'bad' but I wasn't quite sure if that's how you were doing it.* \n",
    "\n",
    "After this feedback I changed the color for departure delays to be orange. These colors do not give a destinction of good and bad. \n",
    "\n",
    "After getting the colors handled, I wanted to focus on what types of graphs I would be presenting. I wanted to ask questions such as, \"what's the relationship between departure and arrival delays? Do they effect each other?\", \"how can I show an overall understanding of the delays that happen in America while flying?\", and \"which airports are the most notorious for delays?\". In my project you'll see a mixture of scatter plots, maps, bar charts, and tree charts to answer these questions.\n",
    "\n",
    "Some other feedback I received was particularly about the calculations done on the map that showed the total amount of delay types in the U.S.:\n",
    "\n",
    "*I find that instead of reporting the default Tableau totals, it's often more meaningful to provide/report the median or mean - it just usually makes more intuitive sense.*\n",
    "\n",
    "After this feedback I changed the maps to show the average of delays instead of totals, the rest of my graphs showed averages after all.\n",
    "\n",
    "\n",
    "### Further Exploration\n",
    "\n",
    "The visualizations for the project were created in Tableau. For me to share the project with others on Tableau Public, the data had to be filtered by just one year, 2017. As you will see in my gathering process, I originally gathered data from 2009 to 2017 which resulted in well over 15 million rows of data, which is the limit for Tableau Public. Because of this I have provided two ways to view the project.\n",
    "\n",
    "**To view the project for flight data in 2017 on tableau public:** [click here](https://public.tableau.com/profile/kenneth5709#!/vizhome/FlightDelayAnalysis_16/FlightsStory?publish=yes)\n",
    "\n",
    "**To view the project for flight data from 2009-2017:**\n",
    "* [Click here](https://drive.google.com/open?id=15U1loH4gTsSkWUpbxGPWWKsA19OOA6wA) to download the tableau workbook labeled *flights2019-2017*\n",
    "* Then [click here](https://www.tableau.com/products/reader) to download the free tableau reader\n",
    "* Open Tableau Reader then open the workbook\n",
    "\n",
    "### Rescources\n",
    "\n",
    "* [Tableau](https://www.tableau.com/)\n",
    "* Python - *pandas*\n",
    "* [Jupyter Lab](https://jupyterlab.readthedocs.io/en/stable/getting_started/overview.html)\n",
    "* [The Bureau of Transportation Statistics](https://www.transtats.bts.gov)\n",
    "* [Data Description](https://www.transtats.bts.gov/Fields.asp?table_id=236)\n",
    "* [Github](https://github.com/kennethacurtis/flight_delay_analysis)"
   ]
  }
 ],
 "metadata": {
  "kernelspec": {
   "display_name": "Python 3",
   "language": "python",
   "name": "python3"
  },
  "language_info": {
   "codemirror_mode": {
    "name": "ipython",
    "version": 3
   },
   "file_extension": ".py",
   "mimetype": "text/x-python",
   "name": "python",
   "nbconvert_exporter": "python",
   "pygments_lexer": "ipython3",
   "version": "3.6.4"
  }
 },
 "nbformat": 4,
 "nbformat_minor": 2
}
